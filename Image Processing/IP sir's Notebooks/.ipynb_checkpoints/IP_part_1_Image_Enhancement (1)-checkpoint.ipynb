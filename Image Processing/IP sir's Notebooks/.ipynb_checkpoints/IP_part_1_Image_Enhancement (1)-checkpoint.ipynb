{
 "cells": [
  {
   "cell_type": "code",
   "execution_count": null,
   "metadata": {
    "colab": {
     "base_uri": "https://localhost:8080/"
    },
    "id": "HqbDLjw2ERpt",
    "outputId": "283898ad-537a-4646-8d9f-10cbbb4b96ff"
   },
   "outputs": [],
   "source": [
    "!pip install numpy"
   ]
  },
  {
   "cell_type": "code",
   "execution_count": 1,
   "metadata": {
    "id": "wCStUAF0ERwh"
   },
   "outputs": [],
   "source": [
    "import numpy as np"
   ]
  },
  {
   "cell_type": "code",
   "execution_count": 5,
   "metadata": {
    "id": "Kf2oScbmFIfr"
   },
   "outputs": [],
   "source": [
    "!pip install -q -U opencv-python"
   ]
  },
  {
   "cell_type": "code",
   "execution_count": 4,
   "metadata": {
    "colab": {
     "base_uri": "https://localhost:8080/"
    },
    "id": "9IcWWcReFiPj",
    "outputId": "63799266-9792-419b-b096-c78463ebcd5f",
    "scrolled": true
   },
   "outputs": [
    {
     "name": "stderr",
     "output_type": "stream",
     "text": [
      "WARNING: Skipping imgaug as it is not installed.\n"
     ]
    }
   ],
   "source": [
    "!pip uninstall imgaug"
   ]
  },
  {
   "cell_type": "code",
   "execution_count": null,
   "metadata": {
    "id": "TIVEIuzgWvAG"
   },
   "outputs": [],
   "source": [
    "# ====================================image Enhancement and Edge Detection================================="
   ]
  },
  {
   "cell_type": "code",
   "execution_count": null,
   "metadata": {
    "id": "4ZEUkyCEFpbJ"
   },
   "outputs": [],
   "source": [
    "import numpy as np\n",
    "import cv2\n",
    "from google.colab.patches import cv2_imshow"
   ]
  },
  {
   "cell_type": "code",
   "execution_count": null,
   "metadata": {
    "id": "FhJ_ObLGGXM2"
   },
   "outputs": [],
   "source": [
    "image = cv2.imread(\"/Image Processing/photosforprocessing/softhill.png\")"
   ]
  },
  {
   "cell_type": "code",
   "execution_count": null,
   "metadata": {
    "colab": {
     "base_uri": "https://localhost:8080/"
    },
    "id": "0lmDMR5eGndT",
    "outputId": "1c2116e8-ef94-4354-b9e9-68da756c3abe"
   },
   "outputs": [],
   "source": [
    "type(image)"
   ]
  },
  {
   "cell_type": "code",
   "execution_count": null,
   "metadata": {
    "colab": {
     "base_uri": "https://localhost:8080/",
     "height": 613
    },
    "id": "S7Yi-LHwW5Kn",
    "outputId": "32f4135f-192e-4928-fbaa-a9841b857736",
    "scrolled": true
   },
   "outputs": [],
   "source": [
    "cv2_imshow(image)"
   ]
  },
  {
   "cell_type": "code",
   "execution_count": null,
   "metadata": {
    "id": "IaNkq79DW3Xd"
   },
   "outputs": [],
   "source": [
    "image"
   ]
  },
  {
   "cell_type": "code",
   "execution_count": null,
   "metadata": {
    "colab": {
     "base_uri": "https://localhost:8080/"
    },
    "id": "t5weIzIaV2GN",
    "outputId": "418c7781-d332-433c-b46e-51ed7ead4472"
   },
   "outputs": [],
   "source": [
    "image.shape"
   ]
  },
  {
   "cell_type": "code",
   "execution_count": null,
   "metadata": {
    "id": "nRJI1DcKG2BN"
   },
   "outputs": [],
   "source": [
    "# x=np.array([1,2,3])"
   ]
  },
  {
   "cell_type": "code",
   "execution_count": null,
   "metadata": {
    "id": "YbzJeAxRVm8p"
   },
   "outputs": [],
   "source": [
    "# x.shape"
   ]
  },
  {
   "cell_type": "code",
   "execution_count": null,
   "metadata": {
    "colab": {
     "base_uri": "https://localhost:8080/",
     "height": 163
    },
    "id": "57ZdL-gcVqAR",
    "outputId": "82ab4c2b-a8dc-46c9-e02b-2f7c00d0bc69"
   },
   "outputs": [],
   "source": [
    "# x=np.array([[[1,2,3],[2,3,4],[3,4,5]],[[10,20,3],[2,30,4],[3,40,50]]])"
   ]
  },
  {
   "cell_type": "code",
   "execution_count": null,
   "metadata": {
    "id": "utuxvXBvVyAo"
   },
   "outputs": [],
   "source": [
    "# x.shape"
   ]
  },
  {
   "cell_type": "code",
   "execution_count": null,
   "metadata": {
    "id": "EA1EpzmWYYHf"
   },
   "outputs": [],
   "source": [
    "# 0 => black 1=> - 255=> white"
   ]
  },
  {
   "cell_type": "code",
   "execution_count": null,
   "metadata": {
    "id": "9l-bCiZQVzfj"
   },
   "outputs": [],
   "source": [
    "image_gray=cv2.cvtColor(image,cv2.COLOR_BGR2GRAY)"
   ]
  },
  {
   "cell_type": "code",
   "execution_count": null,
   "metadata": {
    "colab": {
     "base_uri": "https://localhost:8080/"
    },
    "id": "UV5M4suKYjAr",
    "outputId": "9f92212b-85bd-4e85-95d0-6ca00016ea1e"
   },
   "outputs": [],
   "source": [
    "image_gray.shape"
   ]
  },
  {
   "cell_type": "code",
   "execution_count": null,
   "metadata": {
    "colab": {
     "base_uri": "https://localhost:8080/"
    },
    "id": "Burzs3vIYlaZ",
    "outputId": "0d695f02-0672-461f-8b41-014b9ac7e72e"
   },
   "outputs": [],
   "source": [
    "image_gray"
   ]
  },
  {
   "cell_type": "code",
   "execution_count": null,
   "metadata": {
    "colab": {
     "base_uri": "https://localhost:8080/",
     "height": 1000
    },
    "id": "-wL4z1tsYnJB",
    "outputId": "98044e10-4673-45dc-bbeb-fa0ae662f727"
   },
   "outputs": [],
   "source": [
    "cv2_imshow(image_gray)"
   ]
  },
  {
   "cell_type": "code",
   "execution_count": null,
   "metadata": {
    "id": "3vzQhBJGZRmm"
   },
   "outputs": [],
   "source": [
    "image_bw= cv2.bitwise_not(image_gray)"
   ]
  },
  {
   "cell_type": "code",
   "execution_count": null,
   "metadata": {
    "colab": {
     "base_uri": "https://localhost:8080/"
    },
    "id": "18HcEuSAZRoB",
    "outputId": "2159f9ec-abf5-449e-f3e0-1484ffec47f4"
   },
   "outputs": [],
   "source": [
    "image_bw"
   ]
  },
  {
   "cell_type": "code",
   "execution_count": null,
   "metadata": {
    "colab": {
     "base_uri": "https://localhost:8080/",
     "height": 1000
    },
    "id": "X-aN3JWuZAqZ",
    "outputId": "c762daae-0ec3-47b7-f024-5d660e64a70c"
   },
   "outputs": [],
   "source": [
    "cv2_imshow(image_bw)"
   ]
  },
  {
   "cell_type": "code",
   "execution_count": null,
   "metadata": {
    "id": "q4vdwbolZa7C"
   },
   "outputs": [],
   "source": [
    "image_edge=cv2.Canny(image_gray,100,250)"
   ]
  },
  {
   "cell_type": "code",
   "execution_count": null,
   "metadata": {
    "id": "QFnXZIxJU6y8"
   },
   "outputs": [],
   "source": [
    "# image_edge=cv2.Canny"
   ]
  },
  {
   "cell_type": "code",
   "execution_count": null,
   "metadata": {
    "id": "fk6tI5o7U-q6"
   },
   "outputs": [],
   "source": []
  },
  {
   "cell_type": "code",
   "execution_count": null,
   "metadata": {
    "colab": {
     "base_uri": "https://localhost:8080/",
     "height": 1000
    },
    "id": "L1QYLmu2Z5s5",
    "outputId": "f53cb5e6-db7b-4435-e39f-7b7b6d37421b"
   },
   "outputs": [],
   "source": [
    "cv2_imshow(image_edge)"
   ]
  },
  {
   "cell_type": "code",
   "execution_count": null,
   "metadata": {
    "id": "_6gMdxPrTxEr"
   },
   "outputs": [],
   "source": [
    "# ================================thresholding================================="
   ]
  },
  {
   "cell_type": "code",
   "execution_count": null,
   "metadata": {
    "id": "5tmjvYgkVeCS"
   },
   "outputs": [],
   "source": [
    "image = cv2.imread(\"/content/drive/My Drive/cat.jpg\",0)"
   ]
  },
  {
   "cell_type": "code",
   "execution_count": null,
   "metadata": {
    "colab": {
     "base_uri": "https://localhost:8080/",
     "height": 1000
    },
    "id": "Ja9Re-zGV8dA",
    "outputId": "b3c0c1fc-ef45-4699-fd0b-23468c150c26"
   },
   "outputs": [],
   "source": [
    "cv2_imshow(image)"
   ]
  },
  {
   "cell_type": "code",
   "execution_count": null,
   "metadata": {
    "colab": {
     "base_uri": "https://localhost:8080/"
    },
    "id": "lLN727dIVoT7",
    "outputId": "a06cfdda-b1da-4c7e-f962-dce82ab1aca5"
   },
   "outputs": [],
   "source": [
    "image"
   ]
  },
  {
   "cell_type": "code",
   "execution_count": null,
   "metadata": {
    "id": "Rn02MGMFTxKl"
   },
   "outputs": [],
   "source": [
    "(thresh, blackAndWhiteImage) = cv2.threshold(image, 127, 185, cv2.THRESH_BINARY)"
   ]
  },
  {
   "cell_type": "code",
   "execution_count": null,
   "metadata": {
    "colab": {
     "base_uri": "https://localhost:8080/",
     "height": 1000
    },
    "id": "UspNOnpiTxMQ",
    "outputId": "d77ee703-48ee-4b97-f4e8-2342d17c4b2c"
   },
   "outputs": [],
   "source": [
    "cv2_imshow(blackAndWhiteImage)"
   ]
  },
  {
   "cell_type": "code",
   "execution_count": null,
   "metadata": {
    "colab": {
     "base_uri": "https://localhost:8080/"
    },
    "id": "cdA4CqfoTxOl",
    "outputId": "65cbece2-0b71-4809-fd3c-fc9842db8d68"
   },
   "outputs": [],
   "source": [
    "blackAndWhiteImage"
   ]
  },
  {
   "cell_type": "code",
   "execution_count": null,
   "metadata": {
    "id": "J39-IjmUXE3K"
   },
   "outputs": [],
   "source": [
    "img = cv2.imread('/content/drive/MyDrive/book.jpg')"
   ]
  },
  {
   "cell_type": "code",
   "execution_count": null,
   "metadata": {
    "colab": {
     "base_uri": "https://localhost:8080/",
     "height": 467
    },
    "id": "UyDBhIMUXMs-",
    "outputId": "a08f6b2c-f744-428d-b698-512767f8d212"
   },
   "outputs": [],
   "source": [
    "cv2_imshow(img)"
   ]
  },
  {
   "cell_type": "code",
   "execution_count": null,
   "metadata": {
    "colab": {
     "base_uri": "https://localhost:8080/",
     "height": 917
    },
    "id": "d_kpCrfyW-6E",
    "outputId": "681836cd-49ef-4821-ab64-ba89325fc496"
   },
   "outputs": [],
   "source": [
    "retval, threshold = cv2.threshold(img, 12, 255, cv2.THRESH_BINARY)\n",
    "cv2_imshow(img)\n",
    "cv2_imshow(threshold)"
   ]
  },
  {
   "cell_type": "code",
   "execution_count": null,
   "metadata": {
    "colab": {
     "base_uri": "https://localhost:8080/",
     "height": 917
    },
    "id": "5LKAIeHqW_DN",
    "outputId": "356724a5-be22-422d-aa83-fd38b39eb4bb"
   },
   "outputs": [],
   "source": [
    "grayscaled = cv2.cvtColor(img,cv2.COLOR_BGR2GRAY)\n",
    "retval, threshold = cv2.threshold(grayscaled, 10, 255, cv2.THRESH_BINARY)\n",
    "cv2_imshow(img)\n",
    "cv2_imshow(threshold)"
   ]
  },
  {
   "cell_type": "code",
   "execution_count": null,
   "metadata": {
    "colab": {
     "base_uri": "https://localhost:8080/",
     "height": 917
    },
    "id": "u8lCtebKW_F5",
    "outputId": "c8507570-ec97-4d2f-f768-cd6704aa94d8"
   },
   "outputs": [],
   "source": [
    "th = cv2.adaptiveThreshold(grayscaled, 255, cv2.ADAPTIVE_THRESH_GAUSSIAN_C, cv2.THRESH_BINARY, 115, 1)\n",
    "cv2_imshow(img)\n",
    "cv2_imshow(th)"
   ]
  },
  {
   "cell_type": "code",
   "execution_count": null,
   "metadata": {
    "id": "he39WbPgY2YG"
   },
   "outputs": [],
   "source": [
    "# ===============================================contrast Stretching=============================="
   ]
  },
  {
   "cell_type": "code",
   "execution_count": null,
   "metadata": {
    "id": "d6Y-25zEY2ag"
   },
   "outputs": [],
   "source": [
    "img = cv2.imread('/content/drive/MyDrive/contrast.png',0)"
   ]
  },
  {
   "cell_type": "code",
   "execution_count": null,
   "metadata": {
    "colab": {
     "base_uri": "https://localhost:8080/",
     "height": 178
    },
    "id": "D-u8dcJBY2dl",
    "outputId": "77f91f87-0e40-4eda-c54e-2cee655f3416"
   },
   "outputs": [],
   "source": [
    "cv2_imshow(img)"
   ]
  },
  {
   "cell_type": "code",
   "execution_count": null,
   "metadata": {
    "colab": {
     "base_uri": "https://localhost:8080/"
    },
    "id": "IyWtQuhpY2gd",
    "outputId": "a450bd26-0f88-4e67-f0de-006858b2d089"
   },
   "outputs": [],
   "source": [
    "img.min()"
   ]
  },
  {
   "cell_type": "code",
   "execution_count": null,
   "metadata": {
    "colab": {
     "base_uri": "https://localhost:8080/"
    },
    "id": "3Oz9j8GzTxQr",
    "outputId": "044f747c-4c02-4ebf-94a3-165a12262823"
   },
   "outputs": [],
   "source": [
    "img.max()"
   ]
  },
  {
   "cell_type": "code",
   "execution_count": null,
   "metadata": {
    "id": "MxZwwKWxTxX4"
   },
   "outputs": [],
   "source": [
    "img_contrast=img.copy()"
   ]
  },
  {
   "cell_type": "code",
   "execution_count": null,
   "metadata": {
    "colab": {
     "base_uri": "https://localhost:8080/"
    },
    "id": "-ZY38aV8be2i",
    "outputId": "b27a8b11-7e72-4983-c77b-76bdb45c5111"
   },
   "outputs": [],
   "source": [
    "img.shape"
   ]
  },
  {
   "cell_type": "code",
   "execution_count": null,
   "metadata": {
    "id": "we1OOusiTxad"
   },
   "outputs": [],
   "source": [
    "# img_contrast=np.empty().reshape(161,163)\n",
    "for i in range (img.shape[0]): #traverses through height of the image\n",
    "    for j in range (img.shape[1]): #traverses through width of the image\n",
    "        if img[i][j]==img.max():\n",
    "          img_contrast[i][j]=255\n",
    "        elif img[i][j]==img.min():\n",
    "          img_contrast[i][j]=0\n",
    "        else:\n",
    "          img_contrast[i][j]==img[i][j]"
   ]
  },
  {
   "cell_type": "code",
   "execution_count": null,
   "metadata": {
    "colab": {
     "base_uri": "https://localhost:8080/"
    },
    "id": "EHJZ1BaOcURM",
    "outputId": "82e2f460-6756-4015-b866-57c4742fa142"
   },
   "outputs": [],
   "source": [
    "img_contrast"
   ]
  },
  {
   "cell_type": "code",
   "execution_count": null,
   "metadata": {
    "colab": {
     "base_uri": "https://localhost:8080/",
     "height": 178
    },
    "id": "1EIXJixTcxv-",
    "outputId": "c43ccca7-b554-4f86-f36e-6b579333aba5"
   },
   "outputs": [],
   "source": [
    "cv2_imshow(img_contrast)"
   ]
  },
  {
   "cell_type": "code",
   "execution_count": null,
   "metadata": {
    "colab": {
     "base_uri": "https://localhost:8080/"
    },
    "id": "owjLR50-c3hB",
    "outputId": "8befa56f-83ff-486a-d234-5977c81a9928"
   },
   "outputs": [],
   "source": [
    "img_contrast.min()"
   ]
  },
  {
   "cell_type": "code",
   "execution_count": null,
   "metadata": {
    "colab": {
     "base_uri": "https://localhost:8080/"
    },
    "id": "9qlMuCa0c_Ak",
    "outputId": "bdb4e281-bbef-48a7-b526-6be768fdb8a5"
   },
   "outputs": [],
   "source": [
    "img_contrast.max()"
   ]
  },
  {
   "cell_type": "code",
   "execution_count": null,
   "metadata": {
    "id": "dlH4Zp19dLnE"
   },
   "outputs": [],
   "source": [
    "messi = cv2.imread('/content/drive/MyDrive/messi.png')"
   ]
  },
  {
   "cell_type": "code",
   "execution_count": null,
   "metadata": {
    "colab": {
     "base_uri": "https://localhost:8080/",
     "height": 329
    },
    "id": "N5v2yQgldPUI",
    "outputId": "86b46b5c-a3ee-43c4-a65c-8e2f478a1f6d"
   },
   "outputs": [],
   "source": [
    "cv2_imshow(messi)"
   ]
  },
  {
   "cell_type": "code",
   "execution_count": null,
   "metadata": {
    "colab": {
     "base_uri": "https://localhost:8080/"
    },
    "id": "267d-lXSd09P",
    "outputId": "4dc9a163-c563-44c5-ac85-033e399430ea"
   },
   "outputs": [],
   "source": [
    "messi.max()"
   ]
  },
  {
   "cell_type": "code",
   "execution_count": null,
   "metadata": {
    "colab": {
     "base_uri": "https://localhost:8080/"
    },
    "id": "EBFPdOHCffKh",
    "outputId": "f186eac5-a93c-4c41-f7aa-c36b8fc16b18"
   },
   "outputs": [],
   "source": [
    "messi"
   ]
  },
  {
   "cell_type": "code",
   "execution_count": null,
   "metadata": {
    "colab": {
     "base_uri": "https://localhost:8080/"
    },
    "id": "Bjvb-lR3d3iz",
    "outputId": "aa9bad14-a892-4de7-cc49-7e69356a112e"
   },
   "outputs": [],
   "source": [
    "messi.min()"
   ]
  },
  {
   "cell_type": "code",
   "execution_count": null,
   "metadata": {
    "id": "9DlrbvOLdbxy"
   },
   "outputs": [],
   "source": [
    "import numpy as np"
   ]
  },
  {
   "cell_type": "code",
   "execution_count": null,
   "metadata": {
    "id": "ienaX_oWdA1l"
   },
   "outputs": [],
   "source": [
    "xp = [0, 64, 128, 192, 255]\n",
    "fp = [0, 16, 128, 192, 255]\n",
    "x = np.arange(256)\n",
    "table = np.interp(x, xp, fp).astype('uint8')\n",
    "img_contrast_1 = cv2.LUT(messi, table)"
   ]
  },
  {
   "cell_type": "code",
   "execution_count": null,
   "metadata": {
    "id": "lL0pTY0LdZsN"
   },
   "outputs": [],
   "source": [
    "# img_contrast_1"
   ]
  },
  {
   "cell_type": "code",
   "execution_count": null,
   "metadata": {
    "colab": {
     "base_uri": "https://localhost:8080/",
     "height": 329
    },
    "id": "xxW1d2Q2dmxK",
    "outputId": "44675de8-9265-477b-8ceb-8de3b390513f"
   },
   "outputs": [],
   "source": [
    "cv2_imshow(img_contrast_1)"
   ]
  },
  {
   "cell_type": "code",
   "execution_count": null,
   "metadata": {
    "id": "hKMKmiu7ds4p"
   },
   "outputs": [],
   "source": [
    "# ==========================================Intensity/Gray Level Slicing first approach========================"
   ]
  },
  {
   "cell_type": "code",
   "execution_count": null,
   "metadata": {
    "id": "MfJzgaJcdvUe"
   },
   "outputs": [],
   "source": [
    "intensity_level = cv2.imread('/content/drive/MyDrive/intensity_level.png',0)"
   ]
  },
  {
   "cell_type": "code",
   "execution_count": null,
   "metadata": {
    "colab": {
     "base_uri": "https://localhost:8080/",
     "height": 228
    },
    "id": "0VBd9sT6d8Yh",
    "outputId": "2e078d4b-6fff-439c-a5da-76fbc1668376"
   },
   "outputs": [],
   "source": [
    "cv2_imshow(intensity_level)"
   ]
  },
  {
   "cell_type": "code",
   "execution_count": null,
   "metadata": {
    "colab": {
     "base_uri": "https://localhost:8080/"
    },
    "id": "1syZWHrqeAga",
    "outputId": "6f0d493f-e042-4dc2-b68a-5973b3e1efeb"
   },
   "outputs": [],
   "source": [
    "intensity_level"
   ]
  },
  {
   "cell_type": "code",
   "execution_count": null,
   "metadata": {
    "id": "xkrrH4FNeDi7"
   },
   "outputs": [],
   "source": [
    "in_lvl=intensity_level.copy()"
   ]
  },
  {
   "cell_type": "code",
   "execution_count": null,
   "metadata": {
    "colab": {
     "base_uri": "https://localhost:8080/"
    },
    "id": "YVdst_jteVY9",
    "outputId": "49518ac2-d57b-40d5-f747-06be740daf14"
   },
   "outputs": [],
   "source": [
    "intensity_level.shape"
   ]
  },
  {
   "cell_type": "code",
   "execution_count": null,
   "metadata": {
    "id": "rZmYtUAOeP37"
   },
   "outputs": [],
   "source": [
    "for i in range (intensity_level.shape[0]): #traverses through height of the image\n",
    "    for j in range (intensity_level.shape[1]): #traverses through width of the image\n",
    "        if intensity_level[i][j] in range(165,250):\n",
    "          in_lvl[i][j]=0\n",
    "        else:\n",
    "          in_lvl[i][j]=255"
   ]
  },
  {
   "cell_type": "code",
   "execution_count": null,
   "metadata": {
    "colab": {
     "base_uri": "https://localhost:8080/",
     "height": 228
    },
    "id": "snDYrY9TewQ5",
    "outputId": "1a4bf7db-9247-4353-a44a-ae25debcc3c5"
   },
   "outputs": [],
   "source": [
    "cv2_imshow(in_lvl)"
   ]
  },
  {
   "cell_type": "code",
   "execution_count": null,
   "metadata": {
    "id": "l8maKZWve1CS"
   },
   "outputs": [],
   "source": [
    "# ==========================================Intensity/Gray Level Slicing second approach========================"
   ]
  },
  {
   "cell_type": "code",
   "execution_count": null,
   "metadata": {
    "id": "YTSM-5LlfLzH"
   },
   "outputs": [],
   "source": [
    "for i in range (intensity_level.shape[0]): #traverses through height of the image\n",
    "    for j in range (intensity_level.shape[1]): #traverses through width of the image\n",
    "        if intensity_level[i][j] in range(165,250):\n",
    "          in_lvl[i][j]=0\n",
    "        else:\n",
    "          in_lvl[i][j]=intensity_level[i][j]"
   ]
  },
  {
   "cell_type": "code",
   "execution_count": null,
   "metadata": {
    "colab": {
     "base_uri": "https://localhost:8080/",
     "height": 228
    },
    "id": "Sy1c4_YWfXTf",
    "outputId": "d6f7d55d-cefd-4242-c24a-d27407915399"
   },
   "outputs": [],
   "source": [
    "cv2_imshow(in_lvl)"
   ]
  },
  {
   "cell_type": "code",
   "execution_count": null,
   "metadata": {
    "id": "-f3ZpRJLfZdn"
   },
   "outputs": [],
   "source": [
    "# ========================================================Bit Plane Slicing===================================="
   ]
  },
  {
   "cell_type": "code",
   "execution_count": null,
   "metadata": {
    "id": "K21dUg8_g5Cs"
   },
   "outputs": [],
   "source": [
    "img = cv2.imread('/content/drive/MyDrive/bit_plane.png',0)"
   ]
  },
  {
   "cell_type": "code",
   "execution_count": null,
   "metadata": {
    "colab": {
     "base_uri": "https://localhost:8080/"
    },
    "id": "rAUtpb8fhAEi",
    "outputId": "78be1592-5640-44a3-adfe-e814f32a99f5"
   },
   "outputs": [],
   "source": [
    "img"
   ]
  },
  {
   "cell_type": "code",
   "execution_count": null,
   "metadata": {
    "colab": {
     "base_uri": "https://localhost:8080/"
    },
    "id": "khvyxOIbhhCU",
    "outputId": "389b064e-bea3-4408-ad35-75314c4f0d18"
   },
   "outputs": [],
   "source": [
    "img.shape"
   ]
  },
  {
   "cell_type": "code",
   "execution_count": null,
   "metadata": {
    "colab": {
     "base_uri": "https://localhost:8080/",
     "height": 314
    },
    "id": "eIjoA6j1g9V0",
    "outputId": "d6b64544-6bcb-4153-f596-95a5d0119339"
   },
   "outputs": [],
   "source": [
    "#Iterate over each pixel and change pixel value to binary using np.binary_repr() and store it in a list.\n",
    "lst = []\n",
    "for i in range(img.shape[0]):\n",
    "    for j in range(img.shape[1]):\n",
    "         lst.append(np.binary_repr(img[i][j] ,width=8)) # width = no. of bits\n",
    "\n",
    "# We have a list of strings where each string represents binary pixel value. To extract bit planes we need to iterate over the strings and store the characters corresponding to bit planes into lists.\n",
    "# Multiply with 2^(n-1) and reshape to reconstruct the bit image.\n",
    "eight_bit_img = (np.array([int(i[0]) for i in lst],dtype = np.uint8) * 128).reshape(img.shape[0],img.shape[1])\n",
    "seven_bit_img = (np.array([int(i[1]) for i in lst],dtype = np.uint8) * 64).reshape(img.shape[0],img.shape[1])\n",
    "six_bit_img = (np.array([int(i[2]) for i in lst],dtype = np.uint8) * 32).reshape(img.shape[0],img.shape[1])\n",
    "five_bit_img = (np.array([int(i[3]) for i in lst],dtype = np.uint8) * 16).reshape(img.shape[0],img.shape[1])\n",
    "four_bit_img = (np.array([int(i[4]) for i in lst],dtype = np.uint8) * 8).reshape(img.shape[0],img.shape[1])\n",
    "three_bit_img = (np.array([int(i[5]) for i in lst],dtype = np.uint8) * 4).reshape(img.shape[0],img.shape[1])\n",
    "two_bit_img = (np.array([int(i[6]) for i in lst],dtype = np.uint8) * 2).reshape(img.shape[0],img.shape[1])\n",
    "one_bit_img = (np.array([int(i[7]) for i in lst],dtype = np.uint8) * 1).reshape(img.shape[0],img.shape[1])\n",
    "\n",
    "#Concatenate these images for ease of display using cv2.hconcat()\n",
    "finalr = cv2.hconcat([eight_bit_img,seven_bit_img,six_bit_img,five_bit_img])\n",
    "finalv =cv2.hconcat([four_bit_img,three_bit_img,two_bit_img,one_bit_img])\n",
    "\n",
    "# Vertically concatenate\n",
    "final = cv2.vconcat([finalr,finalv])\n",
    "\n",
    "# Display the images\n",
    "cv2_imshow(final)"
   ]
  },
  {
   "cell_type": "code",
   "execution_count": null,
   "metadata": {
    "id": "E-jxUuXzhKxi"
   },
   "outputs": [],
   "source": [
    "lst = []\n",
    "for i in range(img.shape[0]):\n",
    "    for j in range(img.shape[1]):\n",
    "         lst.append(np.binary_repr(img[i][j] ,width=8))"
   ]
  },
  {
   "cell_type": "code",
   "execution_count": null,
   "metadata": {
    "colab": {
     "base_uri": "https://localhost:8080/",
     "height": 35
    },
    "id": "Ei2Z9MLFhRu7",
    "outputId": "e568bfac-de2a-4665-dbe6-907170906f90"
   },
   "outputs": [],
   "source": [
    "# lst[297]"
   ]
  },
  {
   "cell_type": "code",
   "execution_count": null,
   "metadata": {
    "id": "XEoRa0zhhYLL"
   },
   "outputs": [],
   "source": [
    "11111111"
   ]
  },
  {
   "cell_type": "code",
   "execution_count": null,
   "metadata": {
    "colab": {
     "base_uri": "https://localhost:8080/"
    },
    "id": "XI4JcrkEhwt4",
    "outputId": "948f220f-1b3c-4e8a-9bc4-0de37a2fb214"
   },
   "outputs": [],
   "source": [
    "for i in lst[1]:\n",
    "  print(i[0])"
   ]
  },
  {
   "cell_type": "code",
   "execution_count": null,
   "metadata": {
    "colab": {
     "base_uri": "https://localhost:8080/",
     "height": 35
    },
    "id": "SQ3NUUqkiEJS",
    "outputId": "cb907a4b-c08c-4b73-bd83-9d5a1d94bd93"
   },
   "outputs": [],
   "source": [
    "lst[0]"
   ]
  },
  {
   "cell_type": "code",
   "execution_count": null,
   "metadata": {
    "id": "Ti0wePciiGuV"
   },
   "outputs": [],
   "source": [
    "11111111 => 2^7=>128 => 2^6 => 64"
   ]
  },
  {
   "cell_type": "code",
   "execution_count": null,
   "metadata": {
    "id": "vZ7bstaRjaSu"
   },
   "outputs": [],
   "source": [
    "new_img = eight_bit_img+seven_bit_img+six_bit_img+five_bit_img\n"
   ]
  },
  {
   "cell_type": "code",
   "execution_count": null,
   "metadata": {
    "colab": {
     "base_uri": "https://localhost:8080/",
     "height": 183
    },
    "id": "1-kPKTUNjlGv",
    "outputId": "f8c7b9f1-dbfb-4a06-9548-88d28bc7a4ce"
   },
   "outputs": [],
   "source": [
    "cv2_imshow(new_img)\n"
   ]
  },
  {
   "cell_type": "code",
   "execution_count": null,
   "metadata": {
    "colab": {
     "base_uri": "https://localhost:8080/",
     "height": 183
    },
    "id": "gsCQsrAGjluI",
    "outputId": "4f5ff2b4-8877-4204-fc8c-ef112eaa023b"
   },
   "outputs": [],
   "source": [
    "cv2_imshow(img)"
   ]
  },
  {
   "cell_type": "code",
   "execution_count": null,
   "metadata": {
    "id": "L_Y37rdOjuSJ"
   },
   "outputs": [],
   "source": []
  }
 ],
 "metadata": {
  "colab": {
   "collapsed_sections": [],
   "name": "IP_part-1-Image-Enhancement.ipynb",
   "provenance": []
  },
  "kernelspec": {
   "display_name": "Python 3",
   "language": "python",
   "name": "python3"
  },
  "language_info": {
   "codemirror_mode": {
    "name": "ipython",
    "version": 3
   },
   "file_extension": ".py",
   "mimetype": "text/x-python",
   "name": "python",
   "nbconvert_exporter": "python",
   "pygments_lexer": "ipython3",
   "version": "3.8.5"
  }
 },
 "nbformat": 4,
 "nbformat_minor": 1
}
